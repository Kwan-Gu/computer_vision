{
 "cells": [
  {
   "cell_type": "markdown",
   "id": "a1e2391c-f9f9-4ba3-be6a-691abfa55932",
   "metadata": {},
   "source": [
    "# 이미지 변환"
   ]
  },
  {
   "cell_type": "markdown",
   "id": "e2614eae-4bb0-4669-b673-6409bf46c1af",
   "metadata": {},
   "source": [
    "---"
   ]
  },
  {
   "cell_type": "markdown",
   "id": "132649fc-be16-4362-83c4-afa8d1344b80",
   "metadata": {},
   "source": [
    "## 이동"
   ]
  },
  {
   "cell_type": "markdown",
   "id": "675ac22f-55fa-41a0-a4f5-4eeb9b8c81d2",
   "metadata": {},
   "source": [
    "&emsp;이미지는 x축과 y축을 따라 이동할 수 있습니다. 변환 행렬 $M$을 사용하여 아핀 변환을 수행할 수 있습니다. 이는 벡터 $(x, y)$만큼 이미지를 이동시키는 변환 행렬입니다. 행렬의 첫 번째 행은 $[1, 0, x]$, 두 번째 행은 $[0, 1, y]$ 입니다."
   ]
  },
  {
   "cell_type": "code",
   "execution_count": 3,
   "id": "8922110a-183c-4cb1-bae5-585f3f501bb0",
   "metadata": {},
   "outputs": [],
   "source": [
    "import cv2 as cv\n",
    "import numpy as np\n",
    "\n",
    "img = cv.imread(\"img/table-tennis.jpg\", flags=65)\n",
    "\n",
    "def trackbar_x(x):\n",
    "    M = np.float32([[1, 0, x],\n",
    "                    [0, 1, 0]])\n",
    "    shifted = cv.warpAffine(img, M, (0, 0))\n",
    "    cv.imshow(\"window\", shifted)\n",
    "\n",
    "def trackbar_y(y):\n",
    "    M = np.float32([[1, 0, 0],\n",
    "                    [0, 1, y]])\n",
    "    shifted = cv.warpAffine(img, M, (0, 0))\n",
    "    cv.imshow(\"window\", shifted)\n",
    "\n",
    "cv.imshow(\"window\", img)\n",
    "cv.createTrackbar(\"x\", \"window\", -100, 100, trackbar_x)\n",
    "cv.createTrackbar(\"y\", \"window\", -100, 100, trackbar_y)\n",
    "\n",
    "cv.waitKey(0)\n",
    "cv.destroyAllWindows()"
   ]
  },
  {
   "cell_type": "markdown",
   "id": "77bb988d-4944-41f3-89a8-40c337613256",
   "metadata": {},
   "source": [
    "## 회전"
   ]
  },
  {
   "cell_type": "markdown",
   "id": "85c0169d-641e-49c0-8d6d-881306ee8bfd",
   "metadata": {},
   "source": [
    "&emsp;이미지를 회전할 때에는 회전 중심을 지정해야 합니다. 회전 행렬을 얻으려면 `cv.getRotationMatrix2D` 함수를 사용합니다. 이 함수에는 세 가지 인수가 필요합니다."
   ]
  },
  {
   "cell_type": "markdown",
   "id": "6332fc3b-6b63-49f7-960e-2c074d32d69d",
   "metadata": {},
   "source": [
    "- 회전 중심\n",
    "- 회전 각도\n",
    "- 스케일"
   ]
  },
  {
   "cell_type": "code",
   "execution_count": 6,
   "id": "b8983b90-ff1f-480a-95e9-95cbbe26a085",
   "metadata": {},
   "outputs": [],
   "source": [
    "import cv2 as cv\n",
    "\n",
    "img = cv.imread(\"img/table-tennis.jpg\", flags=65)\n",
    "\n",
    "h, w = img.shape[: 2]\n",
    "center = w//2, h//2\n",
    "\n",
    "def trackbar(angle):\n",
    "    M = cv.getRotationMatrix2D(center, angle, 1.0)\n",
    "    rotated = cv.warpAffine(img, M, (w, h))\n",
    "    cv.imshow(\"window\", rotated)\n",
    "\n",
    "cv.imshow(\"window\", img)\n",
    "cv.createTrackbar(\"angle\", \"window\", 0, 180, trackbar)\n",
    "\n",
    "cv.waitKey(0)\n",
    "cv.destroyAllWindows()"
   ]
  },
  {
   "cell_type": "code",
   "execution_count": null,
   "id": "da0f5e28-7484-448f-86fb-3aa6e4398c07",
   "metadata": {},
   "outputs": [],
   "source": []
  }
 ],
 "metadata": {
  "kernelspec": {
   "display_name": "Python 3 (ipykernel)",
   "language": "python",
   "name": "python3"
  },
  "language_info": {
   "codemirror_mode": {
    "name": "ipython",
    "version": 3
   },
   "file_extension": ".py",
   "mimetype": "text/x-python",
   "name": "python",
   "nbconvert_exporter": "python",
   "pygments_lexer": "ipython3",
   "version": "3.9.13"
  }
 },
 "nbformat": 4,
 "nbformat_minor": 5
}
