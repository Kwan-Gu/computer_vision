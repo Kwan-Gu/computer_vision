{
 "cells": [
  {
   "cell_type": "markdown",
   "id": "b62e9050-bccc-44c7-aade-7e127312b2ed",
   "metadata": {},
   "source": [
    "# 인트로"
   ]
  },
  {
   "cell_type": "markdown",
   "id": "ffda68b5-8afa-46ab-bc35-2042d1fa78f5",
   "metadata": {},
   "source": [
    "---"
   ]
  },
  {
   "cell_type": "markdown",
   "id": "a4cc285d-b988-403d-b0ce-d680880463c1",
   "metadata": {},
   "source": [
    "&emsp;이번 단원에서는 창에 이미지를 표현하고, 마우스와 키보드 이벤트에 반응하는 기본 작업을 살펴봅니다."
   ]
  },
  {
   "cell_type": "markdown",
   "id": "606b5dfa-d4b7-4e2e-959e-40ef4510ddf6",
   "metadata": {},
   "source": [
    "## 이미지 불러오기, 표현하기"
   ]
  },
  {
   "cell_type": "markdown",
   "id": "5611b11e-f4d8-4444-b9f9-fbd5a4f1a99a",
   "metadata": {},
   "source": [
    "&emsp;OpenCV는 이미지 처리를 위한 라이브러리입니다. 먼저, 이미지 파일을 열고 창에 표시하는 것으로 시작합니다. OpenCV 라이브러리 `cv2`를 임포트(import)합니다."
   ]
  },
  {
   "cell_type": "code",
   "execution_count": 1,
   "id": "1c0c87bb-a1bb-47ac-9f67-40841250d5b8",
   "metadata": {},
   "outputs": [],
   "source": [
    "import cv2 as cv"
   ]
  },
  {
   "cell_type": "markdown",
   "id": "4942b82b-e048-40e2-b700-629ea89e8917",
   "metadata": {},
   "source": [
    "&emsp;그런 다음 `cv.imread` 함수를 사용하여 폴더에서 이미지를 로드하고, 이를 **window**라고 불리는 창에 `cv.imshow` 함수를 사용하여 나타냅니다.  \n",
    "\n",
    "&emsp;이 때 주의할 점은 `cv.waitKey()`를 호출해야만 창이 제대로 표시됩니다. `cv.waitkey()`의 매개변수는 키가 눌리길 기다리는 시간(miliseconds)으로, 값이 0이면 계속 대기한다는 의미입니다. 키를 누르면 프로그램은 마지막 줄로 이동하여 모든 창을 닫습니다."
   ]
  },
  {
   "cell_type": "code",
   "execution_count": 6,
   "id": "8b508689-a5d0-44f8-94c5-59370fd31d1d",
   "metadata": {},
   "outputs": [],
   "source": [
    "img = cv.imread(\"img/opencv_logo.PNG\")\n",
    "\n",
    "cv.imshow(\"window\", img)\n",
    "cv.waitKey(0)\n",
    "cv.destroyAllWindows()"
   ]
  },
  {
   "cell_type": "markdown",
   "id": "e638bf82-7e7c-4629-a97e-4ee0f89dd0e9",
   "metadata": {},
   "source": [
    "&emsp;창 닫기 버튼을 클릭하면 창은 닫히지만 프로그램은 종료되지 않습니다. 창을 닫은 후에는 키를 눌러도 더 이상 효과가 없으며 프로그램을 종료하는 방법으로 (Python) 메뉴에서 <b>종료(Quit)</b>를 선택하거나 단축키 **cmd+Q**를 누르는 것이 있습니다."
   ]
  },
  {
   "cell_type": "markdown",
   "id": "e937880b-7746-4c56-81f6-2a468a77c1a8",
   "metadata": {},
   "source": [
    "## 픽셀이란?"
   ]
  },
  {
   "cell_type": "markdown",
   "id": "79705c18-c8ce-4adf-899b-2b5c652f352f",
   "metadata": {},
   "source": [
    "&emsp;이미지는 픽셀로 구성됩니다. 즉, 픽셀은 이미지를 구성하는 점입니다."
   ]
  },
  {
   "cell_type": "markdown",
   "id": "19a38ed9-fc49-405e-87db-f4aa3ce77fa8",
   "metadata": {},
   "source": [
    "## 이미지 저장"
   ]
  },
  {
   "cell_type": "markdown",
   "id": "40e6356b-bf56-4753-9ddc-b2ee9d7c576c",
   "metadata": {},
   "source": [
    "&emsp;이미지를 저장하는 방법은 매우 간단합니다. `imwrite(file, img)`를 사용하고 이미지 형식 확장자(.jpg, .png, .tiff)와 함께 파일 이름을 제공하기만 하면 됩니다. OpenCV는 자동으로 여러분이 원하는 이미지 형식으로 변환합니다.  \n",
    "\n",
    "&emsp;예를 들어, 이미지를 회색조 이미지로 변환하려면 다음과 같은 함수를 사용합니다."
   ]
  },
  {
   "cell_type": "code",
   "execution_count": 7,
   "id": "603b62f3-ed38-44cb-80ec-f2ae9b62394f",
   "metadata": {},
   "outputs": [],
   "source": [
    "gray = cv.cvtColor(img, cv.COLOR_BGR2GRAY)\n",
    "\n",
    "cv.imshow(\"window\", gray)\n",
    "cv.waitKey(0)\n",
    "cv.destroyAllWindows()"
   ]
  },
  {
   "cell_type": "code",
   "execution_count": 8,
   "id": "4a4d4ea4-a573-4349-9938-53bd298e011a",
   "metadata": {},
   "outputs": [
    {
     "data": {
      "text/plain": [
       "True"
      ]
     },
     "execution_count": 8,
     "metadata": {},
     "output_type": "execute_result"
    }
   ],
   "source": [
    "cv.imwrite(\"img/opencv_logo_gray.png\", gray)"
   ]
  },
  {
   "cell_type": "markdown",
   "id": "4bd0fcfe-8cbc-4f75-8d25-0bcf0d6657c8",
   "metadata": {},
   "source": [
    "## 영상 캡처"
   ]
  },
  {
   "cell_type": "markdown",
   "id": "40cacb54-69bd-439d-9b14-cdf786cc755b",
   "metadata": {},
   "source": [
    "&emsp;영상을 캡처하려면 `VideoCapture` 객체를 생성해야 합니다. 인덱스 `0`은 기본 카메라(내장 웹캠)를 가리킵니다."
   ]
  },
  {
   "cell_type": "code",
   "execution_count": 2,
   "id": "3a72899c-57f7-4243-ac8a-051f3e76d0a2",
   "metadata": {},
   "outputs": [],
   "source": [
    "cap = cv.VideoCapture(0)"
   ]
  },
  {
   "cell_type": "markdown",
   "id": "e6b8a086-c7b4-490e-839a-fb8229a2d3e0",
   "metadata": {},
   "source": [
    "&emsp;루프 내에서 영상을 캡처해 프레임을 얻습니다. 그런 다음 프레임에 대해 작업(회색조로 변환)을 수행하고, 결과를 표시하고 영상의 다음 프레임에 대해 같은 작업을 반복합니다. **q** 키를 누를 때까지 루프가 계속 진행됩니다. 마지막에는 영상 스트림을 해제하고 모든 창을 닫습니다."
   ]
  },
  {
   "cell_type": "code",
   "execution_count": 3,
   "id": "2b01c374-f544-4759-8570-ed0e5d8833db",
   "metadata": {},
   "outputs": [],
   "source": [
    "while True:\n",
    "    # 매 프레임 캡처\n",
    "    ret, frame = cap.read()\n",
    "    # 프레임에 대해 작업\n",
    "    gray = cv.cvtColor(frame, cv.COLOR_BGR2GRAY)\n",
    "    # 결과 표출\n",
    "    cv.imshow(\"window\", gray)\n",
    "    # q 키 누를 때까지 루프 진행\n",
    "    if cv.waitKey(1) & 0xFF == ord(\"q\"):\n",
    "        break\n",
    "\n",
    "cap.release()\n",
    "cv.destroyAllWindows()"
   ]
  },
  {
   "cell_type": "markdown",
   "id": "1af9b973-a093-4607-b3b3-dc1171de4a9e",
   "metadata": {},
   "source": [
    "## 오버레이 추가"
   ]
  },
  {
   "cell_type": "markdown",
   "id": "e5984133-cd24-4bdf-915b-e83104c58523",
   "metadata": {},
   "source": [
    "&emsp;특정 지연시간 동안 창에 텍스트를 표출하기 위해 오버레이를 추가할 수 있습니다. 오버레이에 표출되는 텍스트는 흰색 글자, 검정색 배경, 중앙에 위치합니다."
   ]
  },
  {
   "cell_type": "code",
   "execution_count": 2,
   "id": "6b37e76f-5e05-4c4a-82d9-0f56fa32dd23",
   "metadata": {},
   "outputs": [
    {
     "ename": "error",
     "evalue": "OpenCV(4.8.0) D:\\a\\opencv-python\\opencv-python\\opencv\\modules\\highgui\\src\\window.cpp:1199: error: (-213:The function/feature is not implemented) The library is compiled without QT support in function 'cv::displayOverlay'\n",
     "output_type": "error",
     "traceback": [
      "\u001b[1;31m---------------------------------------------------------------------------\u001b[0m",
      "\u001b[1;31merror\u001b[0m                                     Traceback (most recent call last)",
      "Cell \u001b[1;32mIn[2], line 6\u001b[0m\n\u001b[0;32m      3\u001b[0m img \u001b[38;5;241m=\u001b[39m cv\u001b[38;5;241m.\u001b[39mimread(file, cv\u001b[38;5;241m.\u001b[39mIMREAD_COLOR)\n\u001b[0;32m      5\u001b[0m cv\u001b[38;5;241m.\u001b[39mimshow(\u001b[38;5;124m\"\u001b[39m\u001b[38;5;124mwindow\u001b[39m\u001b[38;5;124m\"\u001b[39m, img)\n\u001b[1;32m----> 6\u001b[0m \u001b[43mcv\u001b[49m\u001b[38;5;241;43m.\u001b[39;49m\u001b[43mdisplayOverlay\u001b[49m\u001b[43m(\u001b[49m\u001b[38;5;124;43m\"\u001b[39;49m\u001b[38;5;124;43mwindow\u001b[39;49m\u001b[38;5;124;43m\"\u001b[39;49m\u001b[43m,\u001b[49m\u001b[43m \u001b[49m\u001b[38;5;124;43mf\u001b[39;49m\u001b[38;5;124;43m\"\u001b[39;49m\u001b[38;5;124;43mFile name: \u001b[39;49m\u001b[38;5;132;43;01m{\u001b[39;49;00m\u001b[43mfile\u001b[49m\u001b[38;5;132;43;01m}\u001b[39;49;00m\u001b[38;5;124;43m\"\u001b[39;49m\u001b[43m)\u001b[49m\n\u001b[0;32m      8\u001b[0m cv\u001b[38;5;241m.\u001b[39mwaitKey(\u001b[38;5;241m0\u001b[39m)\n\u001b[0;32m      9\u001b[0m cv\u001b[38;5;241m.\u001b[39mdestroyAllWindows()\n",
      "\u001b[1;31merror\u001b[0m: OpenCV(4.8.0) D:\\a\\opencv-python\\opencv-python\\opencv\\modules\\highgui\\src\\window.cpp:1199: error: (-213:The function/feature is not implemented) The library is compiled without QT support in function 'cv::displayOverlay'\n"
     ]
    }
   ],
   "source": [
    "# 오버레이 추가\n",
    "file = \"img/opencv_logo.PNG\"\n",
    "img = cv.imread(file, cv.IMREAD_COLOR)\n",
    "\n",
    "cv.imshow(\"window\", img)\n",
    "cv.displayOverlay(\"window\", f\"File name: {file}\")\n",
    "\n",
    "cv.waitKey(0)\n",
    "cv.destroyAllWindows()"
   ]
  },
  {
   "cell_type": "code",
   "execution_count": null,
   "id": "2fcf1ab2-b7d2-4a7a-97c1-371a5a40f350",
   "metadata": {},
   "outputs": [],
   "source": []
  }
 ],
 "metadata": {
  "kernelspec": {
   "display_name": "Python 3 (ipykernel)",
   "language": "python",
   "name": "python3"
  },
  "language_info": {
   "codemirror_mode": {
    "name": "ipython",
    "version": 3
   },
   "file_extension": ".py",
   "mimetype": "text/x-python",
   "name": "python",
   "nbconvert_exporter": "python",
   "pygments_lexer": "ipython3",
   "version": "3.9.13"
  }
 },
 "nbformat": 4,
 "nbformat_minor": 5
}
